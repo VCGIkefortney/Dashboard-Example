{
 "cells": [
  {
   "cell_type": "code",
   "execution_count": 1,
   "metadata": {},
   "outputs": [],
   "source": [
    "import pandas as pd\n",
    "import json"
   ]
  },
  {
   "cell_type": "markdown",
   "metadata": {},
   "source": [
    "Refactoring census age brackets to add 18, 19, 20 and 21 into their respective 5 year buckets, overwrites original file so this would only be run once"
   ]
  },
  {
   "cell_type": "code",
   "execution_count": 2,
   "metadata": {},
   "outputs": [],
   "source": [
    "age = pd.read_csv(\"2010censuscountyagesexbrackets.csv\")"
   ]
  },
  {
   "cell_type": "code",
   "execution_count": 3,
   "metadata": {},
   "outputs": [
    {
     "data": {
      "text/plain": [
       "array(['20', '21', '0 to 5', '11 to 15', '15-17', '18-19', '22-24',\n",
       "       '25-29', '30-34', '35-39', '40-44', '45-49', '50-54', '55-59',\n",
       "       '6 to 10', '60-61', '62-64', '65-66', '67-69', '70-74', '75-79',\n",
       "       '80-84', '85+'], dtype=object)"
      ]
     },
     "execution_count": 3,
     "metadata": {},
     "output_type": "execute_result"
    }
   ],
   "source": [
    "pd.unique(age['age'])"
   ]
  },
  {
   "cell_type": "code",
   "execution_count": 4,
   "metadata": {},
   "outputs": [
    {
     "data": {
      "text/html": [
       "<div>\n",
       "<style>\n",
       "    .dataframe thead tr:only-child th {\n",
       "        text-align: right;\n",
       "    }\n",
       "\n",
       "    .dataframe thead th {\n",
       "        text-align: left;\n",
       "    }\n",
       "\n",
       "    .dataframe tbody tr th {\n",
       "        vertical-align: top;\n",
       "    }\n",
       "</style>\n",
       "<table border=\"1\" class=\"dataframe\">\n",
       "  <thead>\n",
       "    <tr style=\"text-align: right;\">\n",
       "      <th></th>\n",
       "      <th>county</th>\n",
       "      <th>sex</th>\n",
       "      <th>people</th>\n",
       "      <th>age</th>\n",
       "    </tr>\n",
       "  </thead>\n",
       "  <tbody>\n",
       "    <tr>\n",
       "      <th>0</th>\n",
       "      <td>Addison County</td>\n",
       "      <td>1</td>\n",
       "      <td>1653</td>\n",
       "      <td>15-19</td>\n",
       "    </tr>\n",
       "    <tr>\n",
       "      <th>1</th>\n",
       "      <td>Addison County</td>\n",
       "      <td>2</td>\n",
       "      <td>1633</td>\n",
       "      <td>15-19</td>\n",
       "    </tr>\n",
       "    <tr>\n",
       "      <th>2</th>\n",
       "      <td>Bennington County</td>\n",
       "      <td>1</td>\n",
       "      <td>1343</td>\n",
       "      <td>15-19</td>\n",
       "    </tr>\n",
       "    <tr>\n",
       "      <th>3</th>\n",
       "      <td>Bennington County</td>\n",
       "      <td>2</td>\n",
       "      <td>1335</td>\n",
       "      <td>15-19</td>\n",
       "    </tr>\n",
       "    <tr>\n",
       "      <th>4</th>\n",
       "      <td>Caledonia County</td>\n",
       "      <td>1</td>\n",
       "      <td>1273</td>\n",
       "      <td>15-19</td>\n",
       "    </tr>\n",
       "  </tbody>\n",
       "</table>\n",
       "</div>"
      ],
      "text/plain": [
       "              county  sex  people    age\n",
       "0     Addison County    1    1653  15-19\n",
       "1     Addison County    2    1633  15-19\n",
       "2  Bennington County    1    1343  15-19\n",
       "3  Bennington County    2    1335  15-19\n",
       "4   Caledonia County    1    1273  15-19"
      ]
     },
     "execution_count": 4,
     "metadata": {},
     "output_type": "execute_result"
    }
   ],
   "source": [
    "to1519 = age[(age['age'] == '15-17') | (age['age'] ==  '18-19')]\n",
    "to1519 = to1519.copy()\n",
    "to1519 = to1519[['county', 'sex','people']].groupby(['county','sex'], as_index=False).sum()\n",
    "to1519['age'] = '15-19'\n",
    "to1519.head()"
   ]
  },
  {
   "cell_type": "code",
   "execution_count": 5,
   "metadata": {},
   "outputs": [
    {
     "data": {
      "text/html": [
       "<div>\n",
       "<style>\n",
       "    .dataframe thead tr:only-child th {\n",
       "        text-align: right;\n",
       "    }\n",
       "\n",
       "    .dataframe thead th {\n",
       "        text-align: left;\n",
       "    }\n",
       "\n",
       "    .dataframe tbody tr th {\n",
       "        vertical-align: top;\n",
       "    }\n",
       "</style>\n",
       "<table border=\"1\" class=\"dataframe\">\n",
       "  <thead>\n",
       "    <tr style=\"text-align: right;\">\n",
       "      <th></th>\n",
       "      <th>county</th>\n",
       "      <th>sex</th>\n",
       "      <th>people</th>\n",
       "      <th>age</th>\n",
       "    </tr>\n",
       "  </thead>\n",
       "  <tbody>\n",
       "    <tr>\n",
       "      <th>0</th>\n",
       "      <td>Addison County</td>\n",
       "      <td>1</td>\n",
       "      <td>1655</td>\n",
       "      <td>20-24</td>\n",
       "    </tr>\n",
       "    <tr>\n",
       "      <th>1</th>\n",
       "      <td>Addison County</td>\n",
       "      <td>2</td>\n",
       "      <td>1414</td>\n",
       "      <td>20-24</td>\n",
       "    </tr>\n",
       "    <tr>\n",
       "      <th>2</th>\n",
       "      <td>Bennington County</td>\n",
       "      <td>1</td>\n",
       "      <td>996</td>\n",
       "      <td>20-24</td>\n",
       "    </tr>\n",
       "    <tr>\n",
       "      <th>3</th>\n",
       "      <td>Bennington County</td>\n",
       "      <td>2</td>\n",
       "      <td>1137</td>\n",
       "      <td>20-24</td>\n",
       "    </tr>\n",
       "    <tr>\n",
       "      <th>4</th>\n",
       "      <td>Caledonia County</td>\n",
       "      <td>1</td>\n",
       "      <td>1032</td>\n",
       "      <td>20-24</td>\n",
       "    </tr>\n",
       "  </tbody>\n",
       "</table>\n",
       "</div>"
      ],
      "text/plain": [
       "              county  sex  people    age\n",
       "0     Addison County    1    1655  20-24\n",
       "1     Addison County    2    1414  20-24\n",
       "2  Bennington County    1     996  20-24\n",
       "3  Bennington County    2    1137  20-24\n",
       "4   Caledonia County    1    1032  20-24"
      ]
     },
     "execution_count": 5,
     "metadata": {},
     "output_type": "execute_result"
    }
   ],
   "source": [
    "to2024 = age[(age['age'] == '20') | (age['age'] ==  '21')| (age['age'] ==  '22-24')]\n",
    "to2024 = to2024.copy()\n",
    "to2024 = to2024[['county', 'sex','people']].groupby(['county','sex'], as_index=False).sum()\n",
    "to2024['age'] = '20-24'\n",
    "to2024.head()"
   ]
  },
  {
   "cell_type": "code",
   "execution_count": 6,
   "metadata": {},
   "outputs": [],
   "source": [
    "agesub = ['0-5', '11-15', '25-29', '30-34', '35-39', '40-44', '45-49', '50-54', '55-59', '06-10', '60-61', '62-64', '65-66', '67-69', '70-74', '75-79', '80-84', '85+']\n",
    "age = age[age['age'].isin(agesub)]\n",
    "age = age.append(to1519)\n",
    "age = age.append(to2024)\n",
    "\n"
   ]
  },
  {
   "cell_type": "code",
   "execution_count": 7,
   "metadata": {},
   "outputs": [
    {
     "data": {
      "text/plain": [
       "array(['0 to 5', '11 to 15', '25-29', '30-34', '35-39', '40-44', '45-49',\n",
       "       '50-54', '55-59', '6 to 10', '60-61', '62-64', '65-66', '67-69',\n",
       "       '70-74', '75-79', '80-84', '85+', '15-19', '20-24'], dtype=object)"
      ]
     },
     "execution_count": 7,
     "metadata": {},
     "output_type": "execute_result"
    }
   ],
   "source": [
    "pd.unique(age['age'])"
   ]
  },
  {
   "cell_type": "code",
   "execution_count": 9,
   "metadata": {},
   "outputs": [
    {
     "data": {
      "text/html": [
       "<div>\n",
       "<style>\n",
       "    .dataframe thead tr:only-child th {\n",
       "        text-align: right;\n",
       "    }\n",
       "\n",
       "    .dataframe thead th {\n",
       "        text-align: left;\n",
       "    }\n",
       "\n",
       "    .dataframe tbody tr th {\n",
       "        vertical-align: top;\n",
       "    }\n",
       "</style>\n",
       "<table border=\"1\" class=\"dataframe\">\n",
       "  <thead>\n",
       "    <tr style=\"text-align: right;\">\n",
       "      <th></th>\n",
       "      <th>age</th>\n",
       "      <th>county</th>\n",
       "      <th>people</th>\n",
       "      <th>sex</th>\n",
       "    </tr>\n",
       "  </thead>\n",
       "  <tbody>\n",
       "    <tr>\n",
       "      <th>23</th>\n",
       "      <td>20-24</td>\n",
       "      <td>Washington County</td>\n",
       "      <td>1525</td>\n",
       "      <td>2</td>\n",
       "    </tr>\n",
       "    <tr>\n",
       "      <th>24</th>\n",
       "      <td>20-24</td>\n",
       "      <td>Windham County</td>\n",
       "      <td>1338</td>\n",
       "      <td>1</td>\n",
       "    </tr>\n",
       "    <tr>\n",
       "      <th>25</th>\n",
       "      <td>20-24</td>\n",
       "      <td>Windham County</td>\n",
       "      <td>1175</td>\n",
       "      <td>2</td>\n",
       "    </tr>\n",
       "    <tr>\n",
       "      <th>26</th>\n",
       "      <td>20-24</td>\n",
       "      <td>Windsor County</td>\n",
       "      <td>1336</td>\n",
       "      <td>1</td>\n",
       "    </tr>\n",
       "    <tr>\n",
       "      <th>27</th>\n",
       "      <td>20-24</td>\n",
       "      <td>Windsor County</td>\n",
       "      <td>1262</td>\n",
       "      <td>2</td>\n",
       "    </tr>\n",
       "  </tbody>\n",
       "</table>\n",
       "</div>"
      ],
      "text/plain": [
       "      age             county  people  sex\n",
       "23  20-24  Washington County    1525    2\n",
       "24  20-24     Windham County    1338    1\n",
       "25  20-24     Windham County    1175    2\n",
       "26  20-24     Windsor County    1336    1\n",
       "27  20-24     Windsor County    1262    2"
      ]
     },
     "execution_count": 9,
     "metadata": {},
     "output_type": "execute_result"
    }
   ],
   "source": [
    "age.tail()"
   ]
  },
  {
   "cell_type": "code",
   "execution_count": 10,
   "metadata": {},
   "outputs": [],
   "source": [
    "age.to_csv(\"2010censuscountyagesexbrackets.csv\", index=False)"
   ]
  }
 ],
 "metadata": {
  "kernelspec": {
   "display_name": "Python 3",
   "language": "python",
   "name": "python3"
  },
  "language_info": {
   "codemirror_mode": {
    "name": "ipython",
    "version": 3
   },
   "file_extension": ".py",
   "mimetype": "text/x-python",
   "name": "python",
   "nbconvert_exporter": "python",
   "pygments_lexer": "ipython3",
   "version": "3.6.1"
  }
 },
 "nbformat": 4,
 "nbformat_minor": 2
}
